{
  "cells": [
    {
      "cell_type": "markdown",
      "metadata": {
        "id": "RhEdWd9YUR6H"
      },
      "source": [
        "### Importación de datos\n",
        "\n"
      ]
    },
    {
      "cell_type": "code",
      "execution_count": 1,
      "metadata": {
        "colab": {
          "base_uri": "https://localhost:8080/",
          "height": 206
        },
        "id": "T3EvaeQ_INIL",
        "outputId": "e9c5efe1-82a3-43ab-e8d7-6d01e4fa3514"
      },
      "outputs": [
        {
          "data": {
            "text/html": [
              "<div>\n",
              "<style scoped>\n",
              "    .dataframe tbody tr th:only-of-type {\n",
              "        vertical-align: middle;\n",
              "    }\n",
              "\n",
              "    .dataframe tbody tr th {\n",
              "        vertical-align: top;\n",
              "    }\n",
              "\n",
              "    .dataframe thead th {\n",
              "        text-align: right;\n",
              "    }\n",
              "</style>\n",
              "<table border=\"1\" class=\"dataframe\">\n",
              "  <thead>\n",
              "    <tr style=\"text-align: right;\">\n",
              "      <th></th>\n",
              "      <th>Producto</th>\n",
              "      <th>Categoría del Producto</th>\n",
              "      <th>Precio</th>\n",
              "      <th>Costo de envío</th>\n",
              "      <th>Fecha de Compra</th>\n",
              "      <th>Vendedor</th>\n",
              "      <th>Lugar de Compra</th>\n",
              "      <th>Calificación</th>\n",
              "      <th>Método de pago</th>\n",
              "      <th>Cantidad de cuotas</th>\n",
              "      <th>lat</th>\n",
              "      <th>lon</th>\n",
              "    </tr>\n",
              "  </thead>\n",
              "  <tbody>\n",
              "    <tr>\n",
              "      <th>0</th>\n",
              "      <td>Asistente virtual</td>\n",
              "      <td>Electrónicos</td>\n",
              "      <td>164300.0</td>\n",
              "      <td>6900.0</td>\n",
              "      <td>16/01/2021</td>\n",
              "      <td>Pedro Gomez</td>\n",
              "      <td>Bogotá</td>\n",
              "      <td>4</td>\n",
              "      <td>Tarjeta de crédito</td>\n",
              "      <td>8</td>\n",
              "      <td>4.60971</td>\n",
              "      <td>-74.08175</td>\n",
              "    </tr>\n",
              "    <tr>\n",
              "      <th>1</th>\n",
              "      <td>Mesa de comedor</td>\n",
              "      <td>Muebles</td>\n",
              "      <td>192300.0</td>\n",
              "      <td>8400.0</td>\n",
              "      <td>18/05/2022</td>\n",
              "      <td>Beatriz Morales</td>\n",
              "      <td>Medellín</td>\n",
              "      <td>1</td>\n",
              "      <td>Tarjeta de crédito</td>\n",
              "      <td>4</td>\n",
              "      <td>6.25184</td>\n",
              "      <td>-75.56359</td>\n",
              "    </tr>\n",
              "    <tr>\n",
              "      <th>2</th>\n",
              "      <td>Juego de mesa</td>\n",
              "      <td>Juguetes</td>\n",
              "      <td>209600.0</td>\n",
              "      <td>15900.0</td>\n",
              "      <td>15/03/2021</td>\n",
              "      <td>Juan Fernandez</td>\n",
              "      <td>Cartagena</td>\n",
              "      <td>1</td>\n",
              "      <td>Tarjeta de crédito</td>\n",
              "      <td>1</td>\n",
              "      <td>10.39972</td>\n",
              "      <td>-75.51444</td>\n",
              "    </tr>\n",
              "    <tr>\n",
              "      <th>3</th>\n",
              "      <td>Microondas</td>\n",
              "      <td>Electrodomésticos</td>\n",
              "      <td>757500.0</td>\n",
              "      <td>41000.0</td>\n",
              "      <td>03/05/2022</td>\n",
              "      <td>Juan Fernandez</td>\n",
              "      <td>Cali</td>\n",
              "      <td>4</td>\n",
              "      <td>Nequi</td>\n",
              "      <td>1</td>\n",
              "      <td>3.43722</td>\n",
              "      <td>-76.52250</td>\n",
              "    </tr>\n",
              "    <tr>\n",
              "      <th>4</th>\n",
              "      <td>Silla de oficina</td>\n",
              "      <td>Muebles</td>\n",
              "      <td>335200.0</td>\n",
              "      <td>20200.0</td>\n",
              "      <td>07/11/2020</td>\n",
              "      <td>Maria Alfonso</td>\n",
              "      <td>Medellín</td>\n",
              "      <td>5</td>\n",
              "      <td>Nequi</td>\n",
              "      <td>1</td>\n",
              "      <td>6.25184</td>\n",
              "      <td>-75.56359</td>\n",
              "    </tr>\n",
              "  </tbody>\n",
              "</table>\n",
              "</div>"
            ],
            "text/plain": [
              "            Producto Categoría del Producto    Precio  Costo de envío  \\\n",
              "0  Asistente virtual           Electrónicos  164300.0          6900.0   \n",
              "1    Mesa de comedor                Muebles  192300.0          8400.0   \n",
              "2      Juego de mesa               Juguetes  209600.0         15900.0   \n",
              "3         Microondas      Electrodomésticos  757500.0         41000.0   \n",
              "4   Silla de oficina                Muebles  335200.0         20200.0   \n",
              "\n",
              "  Fecha de Compra         Vendedor Lugar de Compra  Calificación  \\\n",
              "0      16/01/2021      Pedro Gomez          Bogotá             4   \n",
              "1      18/05/2022  Beatriz Morales        Medellín             1   \n",
              "2      15/03/2021   Juan Fernandez       Cartagena             1   \n",
              "3      03/05/2022   Juan Fernandez            Cali             4   \n",
              "4      07/11/2020    Maria Alfonso        Medellín             5   \n",
              "\n",
              "       Método de pago  Cantidad de cuotas       lat       lon  \n",
              "0  Tarjeta de crédito                   8   4.60971 -74.08175  \n",
              "1  Tarjeta de crédito                   4   6.25184 -75.56359  \n",
              "2  Tarjeta de crédito                   1  10.39972 -75.51444  \n",
              "3               Nequi                   1   3.43722 -76.52250  \n",
              "4               Nequi                   1   6.25184 -75.56359  "
            ]
          },
          "execution_count": 1,
          "metadata": {},
          "output_type": "execute_result"
        }
      ],
      "source": [
        "import pandas as pd\n",
        "from matplotlib import pyplot as plt\n",
        "\n",
        "url = \"https://raw.githubusercontent.com/alura-es-cursos/challenge1-data-science-latam/refs/heads/main/base-de-datos-challenge1-latam/tienda_1%20.csv\"\n",
        "url2 = \"https://raw.githubusercontent.com/alura-es-cursos/challenge1-data-science-latam/refs/heads/main/base-de-datos-challenge1-latam/tienda_2.csv\"\n",
        "url3 = \"https://raw.githubusercontent.com/alura-es-cursos/challenge1-data-science-latam/refs/heads/main/base-de-datos-challenge1-latam/tienda_3.csv\"\n",
        "url4 = \"https://raw.githubusercontent.com/alura-es-cursos/challenge1-data-science-latam/refs/heads/main/base-de-datos-challenge1-latam/tienda_4.csv\"\n",
        "\n",
        "tienda = pd.read_csv(url)\n",
        "tienda2 = pd.read_csv(url2)\n",
        "tienda3 = pd.read_csv(url3)\n",
        "tienda4 = pd.read_csv(url4)\n",
        "\n",
        "tienda.head()"
      ]
    },
    {
      "cell_type": "markdown",
      "metadata": {
        "id": "X62IW3KFUIYm"
      },
      "source": [
        "#1. Análisis de facturación\n",
        "\n"
      ]
    },
    {
      "cell_type": "code",
      "execution_count": 2,
      "metadata": {
        "id": "xykobSftV64I"
      },
      "outputs": [
        {
          "name": "stdout",
          "output_type": "stream",
          "text": [
            "Ingresos de la tienda 1:  1150880400.0\n",
            "Ingresos de la tienda 2:  1116343500.0\n",
            "Ingresos de la tienda 3:  1098019600.0\n",
            "Ingresos de la tienda 4:  1038375700.0\n"
          ]
        }
      ],
      "source": [
        "GananciasTienda = tienda[\"Precio\"].sum()\n",
        "print(\"Ingresos de la tienda 1: \" , GananciasTienda)\n",
        "GananciasTienda2 = tienda2[\"Precio\"].sum()\n",
        "print(\"Ingresos de la tienda 2: \" , GananciasTienda2)\n",
        "GananciasTienda3 = tienda3[\"Precio\"].sum()\n",
        "print(\"Ingresos de la tienda 3: \" , GananciasTienda3)\n",
        "GananciasTienda4 = tienda4[\"Precio\"].sum()\n",
        "print(\"Ingresos de la tienda 4: \" , GananciasTienda4)\n"
      ]
    },
    {
      "cell_type": "code",
      "execution_count": null,
      "metadata": {
        "id": "KDyr8E71V3m-"
      },
      "outputs": [],
      "source": []
    },
    {
      "cell_type": "markdown",
      "metadata": {
        "id": "2V_vcAPzWZmR"
      },
      "source": [
        "# 2. Ventas por categoría"
      ]
    },
    {
      "cell_type": "code",
      "execution_count": 4,
      "metadata": {
        "id": "A34YupIuYhfF"
      },
      "outputs": [
        {
          "name": "stdout",
          "output_type": "stream",
          "text": [
            "Ventas de Electrónicos = 448.0\n",
            "Ventas de Muebles = 465.0\n",
            "Ventas de Juguetes = 324.0\n",
            "Ventas de Electrodomésticos = 312.0\n",
            "Ventas de Artículos para el hogar = 171.0\n",
            "Ventas de Deportes y diversión = 284.0\n",
            "Ventas de Libros = 173.0\n",
            "Ventas de Instrumentos musicales = 182.0\n"
          ]
        }
      ],
      "source": [
        "def contador(nTienda, impresor = True):\n",
        "    dicVentas = {x: 0 for x in nTienda[\"Categoría del Producto\"]} #dicVentas = diccionario con las categorias\n",
        "    for nObjeto in range(len(nTienda[\"Precio\"])): #nObjeto = posicion\n",
        "        dicVentas[nTienda[\"Categoría del Producto\"][nObjeto]] += 1 #Para calcular ganancias, cambiar 1 por nTienda[\"Precio\"][nObjeto]\n",
        "    if impresor:\n",
        "        for categoria in dicVentas:\n",
        "            print(\"Ventas de\", categoria, \"=\", float(dicVentas[categoria]))\n",
        "    else:\n",
        "        return dicVentas\n",
        "\n",
        "contador(tienda)\n"
      ]
    },
    {
      "cell_type": "code",
      "execution_count": 47,
      "metadata": {
        "id": "yZR6cOjXYSk1"
      },
      "outputs": [
        {
          "data": {
            "image/png": "[encoded data removed]",
            "text/plain": [
              "<Figure size 640x480 with 1 Axes>"
            ]
          },
          "metadata": {},
          "output_type": "display_data"
        }
      ],
      "source": [
        "def graficoDeVentas(dicVentas):\n",
        "    nombreProductos =[]\n",
        "    ventasProductos =[]\n",
        "    for producto in dicVentas:\n",
        "        nombreProductos.append(producto)\n",
        "        ventasProductos.append(dicVentas[producto])\n",
        "    plt.bar(x = nombreProductos, height= ventasProductos)\n",
        "    plt.xticks(rotation=60, fontsize = 8)\n",
        "    plt.title(\"Grafico de ventas\", fontsize = 14)\n",
        "    plt.show()\n",
        "\n",
        "graficoDeVentas(contador(tienda, False))"
      ]
    },
    {
      "cell_type": "markdown",
      "metadata": {
        "id": "Rq6tU_xSY3jk"
      },
      "source": [
        "# 3. Calificación promedio de la tienda\n"
      ]
    },
    {
      "cell_type": "code",
      "execution_count": 70,
      "metadata": {
        "id": "bh3jjjJwY5MU"
      },
      "outputs": [
        {
          "name": "stdout",
          "output_type": "stream",
          "text": [
            "Calificacion promedio de la tienda  1 :  3.976685036032217\n",
            "Calificacion promedio de la tienda  2 :  4.037303942348453\n",
            "Calificacion promedio de la tienda  3 :  4.048325561678677\n",
            "Calificacion promedio de la tienda  4 :  3.9957591178965224\n"
          ]
        }
      ],
      "source": [
        "promedio = lambda x: float(x.sum()/len(x))\n",
        "listaTiendas = [tienda, tienda2, tienda3, tienda4]\n",
        "i = 0\n",
        "for nTienda in listaTiendas:\n",
        "    i+=1\n",
        "    print(\"Calificacion promedio de la tienda \", i, \": \",promedio(nTienda[\"Calificación\"]))"
      ]
    },
    {
      "cell_type": "code",
      "execution_count": null,
      "metadata": {
        "id": "I0KkjPoTY88F"
      },
      "outputs": [],
      "source": []
    },
    {
      "cell_type": "markdown",
      "metadata": {
        "id": "DmNp1KPBZCm-"
      },
      "source": [
        "# 4. Productos más y menos vendidos"
      ]
    },
    {
      "cell_type": "code",
      "execution_count": 34,
      "metadata": {
        "id": "qoyjqijQZHfF"
      },
      "outputs": [
        {
          "name": "stdout",
          "output_type": "stream",
          "text": [
            "Muebles es el producto mas vendido de la tienda, con 465 ventas.\n",
            "Instrumentos musicales es el producto menos vendido de la tienda, con 182 ventas.\n"
          ]
        }
      ],
      "source": [
        "def calificadorVentas(nTienda):\n",
        "    dicVentas = contador(nTienda, False)\n",
        "    masVendido = 0\n",
        "    menosVendido = 0\n",
        "    for producto in dicVentas:\n",
        "        if masVendido == 0 or dicVentas[producto] > dicVentas[masVendido]:\n",
        "            masVendido = producto\n",
        "        else:\n",
        "            menosVendido = producto\n",
        "\n",
        "    print(masVendido, \"es el producto mas vendido de la tienda, con\", dicVentas[masVendido], \"ventas.\")\n",
        "    print(menosVendido, \"es el producto menos vendido de la tienda, con\", dicVentas[menosVendido], \"ventas.\")\n",
        "\n",
        "\n",
        "calificadorVentas(tienda)\n",
        "\n",
        "\n"
      ]
    },
    {
      "cell_type": "code",
      "execution_count": null,
      "metadata": {
        "id": "0Sw3sd4IZIGW"
      },
      "outputs": [],
      "source": []
    },
    {
      "cell_type": "markdown",
      "metadata": {
        "id": "Fl0cGi3bZKqU"
      },
      "source": [
        "# 5. Envío promedio por tienda"
      ]
    },
    {
      "cell_type": "code",
      "execution_count": 69,
      "metadata": {
        "id": "S2JeaCykZNy9"
      },
      "outputs": [
        {
          "name": "stdout",
          "output_type": "stream",
          "text": [
            "Promedio de envio de la tienda 1 : 26018.60958033065\n",
            "Promedio de envio de la tienda 2 : 25216.235693090293\n",
            "Promedio de envio de la tienda 3 : 24805.680373039424\n",
            "Promedio de envio de la tienda 4 : 23459.457167090754\n"
          ]
        }
      ],
      "source": [
        "i=0\n",
        "for nTienda in listaTiendas:\n",
        "    i+=1\n",
        "    print(\"Promedio de envio de la tienda\", i ,\":\",promedio(nTienda[\"Costo de envío\"]))\n"
      ]
    },
    {
      "cell_type": "code",
      "execution_count": null,
      "metadata": {
        "id": "0tSdCie9ZQlt"
      },
      "outputs": [
        {
          "name": "stdout",
          "output_type": "stream",
          "text": [
            "[26018.60958033065, 25216.235693090293, 24805.680373039424, 23459.457167090754]\n"
          ]
        }
      ],
      "source": [
        "\n",
        "enviosPromedio = [promedio(x[\"Costo de envío\"]) for x in listaTiendas]\n",
        "print(enviosPromedio)"
      ]
    }
  ],
  "metadata": {
    "colab": {
      "provenance": []
    },
    "kernelspec": {
      "display_name": "Python 3",
      "name": "python3"
    },
    "language_info": {
      "codemirror_mode": {
        "name": "ipython",
        "version": 3
      },
      "file_extension": ".py",
      "mimetype": "text/x-python",
      "name": "python",
      "nbconvert_exporter": "python",
      "pygments_lexer": "ipython3",
      "version": "3.12.3"
    }
  },
  "nbformat": 4,
  "nbformat_minor": 0
}
